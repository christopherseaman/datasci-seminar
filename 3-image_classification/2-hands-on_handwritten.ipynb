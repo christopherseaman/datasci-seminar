{
 "cells": [
  {
   "attachments": {},
   "cell_type": "markdown",
   "metadata": {},
   "source": [
    "# Classification\n",
    "\n",
    "## Setup\n",
    "\n",
    "### Install/import libraries\n",
    "As usual, remember to use a virtual environment!\n",
    "\n",
    "### Download data\n",
    "You can download the EMNIST dataset from the official website. Make sure to provide clear instructions on how to download and extract the data.\n",
    "\n",
    "### Define helper functions \n",
    "It's a good idea to preprocess the data to make it easier to work with. You can create subsets of the data for training, validation, and testing. Also, since the labels in the original dataset are encoded as integers, it may be helpful to create a dictionary that maps the integer labels to their corresponding characters.\n",
    "\n",
    "## Example: Classify 0 vs 1\n",
    "\n",
    "### Pre-built models classifying 0/1\n",
    " - Logistic regression\n",
    " - RandomForest\n",
    " - XGBoost\n",
    " - Neural network\n",
    "\n",
    "### Evaluate/compare model performance\n",
    " - Confusion matrix: A table that shows the number of true positives, true negatives, false positives, and false negatives for a binary classification problem.\n",
    " - Accuracy: The proportion of correct predictions over the total number of predictions.\n",
    " - Precision: The proportion of true positives over the total number of positive predictions.\n",
    " - Recall: The proportion of true positives over the total number of actual positives.\n",
    " - F1 score: The harmonic mean of precision and recall, which balances both metrics and gives equal weight to both.\n",
    "\n",
    "## Self-guided: Classify digits\n",
    "DIY baseline model (your choice - logistic regression? decision tree? CNN?) as a starting point. Try out different options, hyperparameters, and feature representations to improve the performance of their classifier. Any opportunity for `feature engineering`?\n",
    "\n",
    "## Self-guided: Classify all symbols\n",
    "### Evaluate the model\n",
    "Evaluate the models on the test set, analyze the confusion matrix to see where the model performs well and where it struggles.\n",
    "\n",
    "### Investigate subsets\n",
    "On which classes does the model perform well? Poorly? Evaluate again, excluding easily confused symbols (such as 'O' and '0').\n",
    "\n",
    "### Improve performance\n",
    "Brainstorm for improving the performance. This could include trying different architectures, adding more layers, changing the loss function, or using data augmentation techniques."
   ]
  },
  {
   "cell_type": "code",
   "execution_count": null,
   "metadata": {
    "vscode": {
     "languageId": "python"
    }
   },
   "outputs": [],
   "source": [
    "# Install required packages (once per virtual environment)\n",
    "# %pip install -r ../requirements.txt"
   ]
  },
  {
   "cell_type": "code",
   "execution_count": null,
   "metadata": {
    "vscode": {
     "languageId": "python"
    }
   },
   "outputs": [],
   "source": [
    "# Import packages\n",
    "import os\n",
    "import string\n",
    "import random\n",
    "import numpy as np\n",
    "import pandas as pd\n",
    "import matplotlib.pyplot as plt\n",
    "import emnist\n",
    "\n",
    "# ML packages\n",
    "from sklearn.ensemble import RandomForestClassifier\n",
    "from sklearn.metrics import confusion_matrix, accuracy_score, precision_score, recall_score, f1_score\n",
    "import tensorflow as tf\n",
    "from tensorflow.keras.preprocessing.image import ImageDataGenerator\n",
    "\n",
    "# Constants\n",
    "SIZE = 28\n",
    "os.environ['TF_CPP_MIN_LOG_LEVEL'] = '2' # or 3 to suppress all warnings\n"
   ]
  },
  {
   "cell_type": "code",
   "execution_count": null,
   "metadata": {
    "vscode": {
     "languageId": "python"
    }
   },
   "outputs": [],
   "source": [
    "# Define helper functions\n",
    "def int_to_char(label):\n",
    "    \"\"\"Convert an integer label to the corresponding uppercase character.\"\"\"\n",
    "    if label < 10:\n",
    "        return str(label)\n",
    "    elif label < 36:\n",
    "        return chr(label - 10 + ord('A'))\n",
    "    else:\n",
    "        return chr(label - 36 + ord('a'))\n",
    "\n",
    "def show_image(row):\n",
    "    \"\"\"Display a single image and its corresponding label.\"\"\"\n",
    "    image = row['image']\n",
    "    label = row['label']\n",
    "    plt.imshow(image, cmap='gray')\n",
    "    plt.title('Label: ' + int_to_char(label))\n",
    "    plt.axis('off')\n",
    "    plt.show()\n",
    "\n",
    "def show_grid(data, title=None, num_cols=5, figsize=(20, 10)):\n",
    "    \"\"\"\n",
    "    Display a list of images as a grid of num_cols columns.\n",
    "    images: a list of images, each represented as a 28x28 numpy array\n",
    "    labels: a list of labels, one for each image\n",
    "    title: (optional) a title for the plot\n",
    "    num_cols: (optional) number of columns to use in the grid\n",
    "    figsize: (optional) size of the figure\n",
    "    \"\"\"\n",
    "    num_images = len(data)\n",
    "    num_rows = (num_images - 1) // num_cols + 1\n",
    "    fig, axes = plt.subplots(num_rows, num_cols, figsize=figsize)\n",
    "    if title is not None:\n",
    "        fig.suptitle(title, fontsize=16)\n",
    "    for i in range(num_rows):\n",
    "        for j in range(num_cols):\n",
    "            index = i * num_cols + j\n",
    "            if index < num_images:\n",
    "                axes[i, j].imshow(data.iloc[index]['image'], cmap='gray')\n",
    "                axes[i, j].axis('off')\n",
    "                label = int_to_char(data.iloc[index]['label'])\n",
    "                axes[i, j].set_title(label)\n",
    "    plt.show()\n",
    "\n",
    "# Get a random image of a given label from the dataset\n",
    "def get_image_by_label(data, label):\n",
    "    \"\"\"Get a random image of a given label from the dataset.\"\"\"\n",
    "    images = data[data['label'] == label]['image'].tolist()\n",
    "    return random.choice(images)\n",
    "\n",
    "# Plot the training and validation accuracy during the training of a model\n",
    "def plot_accuracy(history):\n",
    "    \"\"\"Plot the training and validation accuracy during the training of a model.\"\"\"\n",
    "    acc = history.history['accuracy']\n",
    "    val_acc = history.history['val_accuracy']\n",
    "    epochs = range(1, len(acc) + 1)\n",
    "    plt.plot(epochs, acc, 'bo', label='Training accuracy')\n",
    "    plt.plot(epochs, val_acc, 'b', label='Validation accuracy')\n",
    "    plt.title('Training and validation accuracy')\n",
    "    plt.xlabel('Epochs')\n",
    "    plt.ylabel('Accuracy')\n",
    "    plt.legend()\n",
    "    plt.show()\n",
    "\n",
    "# Plot the training and validation loss during the training of a model\n",
    "def plot_loss(history):\n",
    "    \"\"\"Plot the training and validation loss during the training of a model.\"\"\"\n",
    "    loss = history.history['loss']\n",
    "    val_loss = history.history['val_loss']\n",
    "    epochs = range(1, len(loss) + 1)\n",
    "    plt.plot(epochs, loss, 'bo', label='Training loss')\n",
    "    plt.plot(epochs, val_loss, 'b', label='Validation loss')\n",
    "    plt.title('Training and validation loss')\n",
    "    plt.xlabel('Epochs')\n",
    "    plt.ylabel('Loss')\n",
    "    plt.legend()\n",
    "    plt.show()\n",
    "\n",
    "# Normalize the pixel values of the images in the dataset to have zero mean and unit variance\n",
    "def normalize_images(images):\n",
    "    \"\"\"Normalize the pixel values of the images in the dataset to have zero mean and unit variance.\"\"\"\n",
    "    images = np.array(images)\n",
    "    mean = images.mean()\n",
    "    std = images.std()\n",
    "    images = (images - mean) / std\n",
    "    return images.tolist()\n",
    "\n",
    "# Augment images by applying random rotations, translations, and zooms to the original images in the dataset\n",
    "# Example: randomly select 5 images from the training set and \"augment\" them by applying random rotations, translations, and zooms\n",
    "# aug_images, aug_labels = augment_images(train['image'], train['label'], num_aug=5, rot_range=15, trans_range=5, zoom_range=[0.9, 1.1])\n",
    "def augment_images(images, labels, batch_size):\n",
    "    \"\"\"Generate augmented images by applying random rotations, translations, and zooms to the original images in the dataset.\"\"\"\n",
    "    datagen = ImageDataGenerator(\n",
    "        rotation_range=10,\n",
    "        width_shift_range=0.1,\n",
    "        height_shift_range=0.1,\n",
    "        zoom_range=0.1,\n",
    "    )\n",
    "    generator = datagen.flow(\n",
    "        images,\n",
    "        labels,\n",
    "        batch_size=batch_size,\n",
    "    )\n",
    "    return generator\n",
    "\n"
   ]
  },
  {
   "cell_type": "code",
   "execution_count": null,
   "metadata": {
    "vscode": {
     "languageId": "python"
    }
   },
   "outputs": [],
   "source": [
    "# Load data\n",
    "\n",
    "# Extract the training split as images and labels\n",
    "image, label = emnist.extract_training_samples('byclass')\n",
    "\n",
    "# Add columns for each pixel value (28x28 = 784 columns)\n",
    "train = pd.DataFrame()\n",
    "\n",
    "# Add a column with the image data as a 28x28 array\n",
    "train['image'] = list(image)\n",
    "# train['image_array'] = np.array(train['image'].tolist())\n",
    "\n",
    "# Add a column showing the label\n",
    "train['label'] = label\n",
    "\n",
    "# Convert labels to characters\n",
    "class_label = np.array([int_to_char(l) for l in label])\n",
    "\n",
    "# Add a column with the character corresponding to the label\n",
    "train['class'] = class_label\n",
    "\n",
    "# Repeat for the test split\n",
    "image, label = emnist.extract_test_samples('byclass')\n",
    "class_label = np.array([int_to_char(l) for l in label])\n",
    "valid = pd.DataFrame()\n",
    "valid['image'] = list(image)\n",
    "# valid['image_array'] = np.array(valid['image'].tolist())\n",
    "valid['label'] = label\n",
    "valid['class'] = class_label"
   ]
  },
  {
   "cell_type": "code",
   "execution_count": null,
   "metadata": {
    "vscode": {
     "languageId": "python"
    }
   },
   "outputs": [],
   "source": [
    "# Using the helper functions\n",
    "\n",
    "# Plot a random image from the training set\n",
    "index = np.random.randint(0, len(train))\n",
    "show_image(train.iloc[index])\n",
    "\n",
    "# Show a set of 25 images in a 5x5 grid\n",
    "show_grid(train[:25], title='First 25 images')\n",
    "\n",
    "# Isn't it nice to have a helper function to do this for you?\n"
   ]
  },
  {
   "cell_type": "code",
   "execution_count": null,
   "metadata": {
    "vscode": {
     "languageId": "python"
    }
   },
   "outputs": [],
   "source": [
    "# Example: Classifying 0 vs 1\n",
    "\n",
    "# Subset `train` and `valid` to only include 0s and 1s\n",
    "symbols_list = ['0', '1']\n",
    "\n",
    "mask_train = train['class'].apply(lambda x: x in symbols_list)\n",
    "train_01 = train[mask_train]\n",
    "\n",
    "mask_valid = valid['class'].apply(lambda x: x in symbols_list)\n",
    "valid_01 = valid[mask_valid]\n",
    "\n",
    "\n",
    "# Create a dictionary for performance metrics\n",
    "metrics_dict = {}\n",
    "\n",
    "# (optional) We can define all the metrics we want to track in a dictionary\n",
    "metrics = {\n",
    "    'task': '0 vs 1',\n",
    "    'logistic_regression': {\n",
    "        'confusion_matrix': [],\n",
    "        'accuracy': [],\n",
    "        'precision': [],\n",
    "        'recall': [],\n",
    "        'f1': []\n",
    "    },\n",
    "    'xgboost': {\n",
    "        'confusion_matrix': [],\n",
    "        'accuracy': [],\n",
    "        'precision': [],\n",
    "        'recall': [],\n",
    "        'f1': []\n",
    "    },\n",
    "    'random_forest': {\n",
    "        'confusion_matrix': [],\n",
    "        'accuracy': [],\n",
    "        'precision': [],\n",
    "        'recall': [],\n",
    "        'f1': []\n",
    "    },\n",
    "    'neural_network': {\n",
    "        'confusion_matrix': [],\n",
    "        'accuracy': [],\n",
    "        'precision': [],\n",
    "        'recall': [],\n",
    "        'f1': []\n",
    "    }\n",
    "}\n",
    "\n",
    "show_grid(train_01[:25], title=\"First 25 images of 0's and 1's\")\n"
   ]
  },
  {
   "cell_type": "code",
   "execution_count": null,
   "metadata": {
    "vscode": {
     "languageId": "python"
    }
   },
   "outputs": [],
   "source": []
  },
  {
   "cell_type": "code",
   "execution_count": null,
   "metadata": {
    "vscode": {
     "languageId": "python"
    }
   },
   "outputs": [],
   "source": [
    "# Example model: RandomForest for 0 vs 1 classification\n",
    "task = '0 vs 1'\n",
    "model_name = 'Random Forest'\n",
    "\n",
    "# Initialize random forest classifier\n",
    "rf_clf = RandomForestClassifier(n_estimators=100, random_state=42)\n",
    "\n",
    "# Train and evaluate model\n",
    "rf_clf.fit(train_01['image_flat'], train_01['label'])\n",
    "y_pred = rf_clf.predict(valid_01['image'])\n",
    "\n",
    "# Calculate performance metrics\n",
    "acc = accuracy_score(valid_01['label'], y_pred)\n",
    "prec = precision_score(valid_01['label'], y_pred)\n",
    "rec = recall_score(valid_01['label'], y_pred)\n",
    "f1 = f1_score(valid_01['label'], y_pred)\n",
    "cm = confusion_matrix(valid_01['label'], y_pred)\n",
    "\n",
    "# Store performance metrics in dictionary\n",
    "\n",
    "metrics_dict[task][model_name] = {'accuracy': acc,\n",
    "                                  'precision': prec,\n",
    "                                  'recall': rec,\n",
    "                                  'f1': f1,\n",
    "                                  'confusion_matrix': cm}"
   ]
  },
  {
   "cell_type": "code",
   "execution_count": null,
   "metadata": {
    "vscode": {
     "languageId": "python"
    }
   },
   "outputs": [],
   "source": []
  },
  {
   "cell_type": "code",
   "execution_count": null,
   "metadata": {
    "vscode": {
     "languageId": "python"
    }
   },
   "outputs": [],
   "source": []
  }
 ],
 "metadata": {
  "kernelspec": {
   "display_name": "Python 3 (ipykernel)",
   "language": "python",
   "name": "python3"
  },
  "orig_nbformat": 4
 },
 "nbformat": 4,
 "nbformat_minor": 2
}
