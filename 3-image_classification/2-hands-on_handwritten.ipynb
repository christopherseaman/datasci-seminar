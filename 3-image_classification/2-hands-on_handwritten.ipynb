{
 "cells": [
  {
   "attachments": {},
   "cell_type": "markdown",
   "metadata": {},
   "source": [
    "# Setup\n",
    "Setup some conveniences\n",
    "\n",
    "# Example classifier\n",
    "1. Limit dataset to zeros and ones\n",
    "2. Split into train/test datasets\n",
    "3. Choose and train a model\n",
    "4. Evaluate performance\n",
    "\n",
    "# Workshop exercises\n",
    "1. Creating a classifier for digits\n",
    "2. Creating a classifier for all symbols\n",
    "    a. How does it perform overall?\n",
    "    b. How does it perform when excluding \"confusing\" symbols?\n",
    "    c. How would you improve it?\n",
    "3. "
   ]
  },
  {
   "attachments": {},
   "cell_type": "markdown",
   "metadata": {},
   "source": []
  }
 ],
 "metadata": {
  "language_info": {
   "name": "python"
  },
  "orig_nbformat": 4
 },
 "nbformat": 4,
 "nbformat_minor": 2
}
